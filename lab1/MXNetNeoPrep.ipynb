{
 "cells": [
  {
   "cell_type": "markdown",
   "id": "d6f456dc",
   "metadata": {},
   "source": [
    "# People counter model preparation and compilation\n",
    "# Section 1: Model preparation\n",
    "\n",
    "## Install and import necessary Python libraries\n",
    "In this first step, we install some useful Python libraries for us to easily prepare the model to be compiled by SageMaker NEO."
   ]
  },
  {
   "cell_type": "code",
   "execution_count": 5,
   "id": "96b7c4d8",
   "metadata": {},
   "outputs": [
    {
     "name": "stdout",
     "output_type": "stream",
     "text": [
      "Collecting gluoncv\n",
      "  Downloading gluoncv-0.10.4.post4-py2.py3-none-any.whl (1.3 MB)\n",
      "\u001b[K     |████████████████████████████████| 1.3 MB 6.5 MB/s eta 0:00:01\n",
      "\u001b[?25hRequirement already satisfied: numpy in /home/ec2-user/anaconda3/envs/mxnet_latest_p37/lib/python3.7/site-packages (from gluoncv) (1.21.4)\n",
      "Collecting yacs\n",
      "  Downloading yacs-0.1.8-py3-none-any.whl (14 kB)\n",
      "Requirement already satisfied: matplotlib in /home/ec2-user/anaconda3/envs/mxnet_latest_p37/lib/python3.7/site-packages (from gluoncv) (3.3.4)\n",
      "Requirement already satisfied: Pillow in /home/ec2-user/anaconda3/envs/mxnet_latest_p37/lib/python3.7/site-packages (from gluoncv) (8.3.2)\n",
      "Requirement already satisfied: tqdm in /home/ec2-user/anaconda3/envs/mxnet_latest_p37/lib/python3.7/site-packages (from gluoncv) (4.57.0)\n",
      "Collecting portalocker\n",
      "  Downloading portalocker-2.3.2-py2.py3-none-any.whl (15 kB)\n",
      "Requirement already satisfied: pyyaml in /home/ec2-user/anaconda3/envs/mxnet_latest_p37/lib/python3.7/site-packages (from gluoncv) (5.4.1)\n",
      "Requirement already satisfied: scipy in /home/ec2-user/anaconda3/envs/mxnet_latest_p37/lib/python3.7/site-packages (from gluoncv) (1.5.3)\n",
      "Requirement already satisfied: pandas in /home/ec2-user/anaconda3/envs/mxnet_latest_p37/lib/python3.7/site-packages (from gluoncv) (1.3.4)\n",
      "Collecting autocfg\n",
      "  Downloading autocfg-0.0.8-py3-none-any.whl (13 kB)\n",
      "Requirement already satisfied: requests in /home/ec2-user/anaconda3/envs/mxnet_latest_p37/lib/python3.7/site-packages (from gluoncv) (2.26.0)\n",
      "Requirement already satisfied: opencv-python in /home/ec2-user/anaconda3/envs/mxnet_latest_p37/lib/python3.7/site-packages (from gluoncv) (4.5.1.48)\n",
      "Requirement already satisfied: pyparsing!=2.0.4,!=2.1.2,!=2.1.6,>=2.0.3 in /home/ec2-user/anaconda3/envs/mxnet_latest_p37/lib/python3.7/site-packages (from matplotlib->gluoncv) (2.4.7)\n",
      "Requirement already satisfied: python-dateutil>=2.1 in /home/ec2-user/anaconda3/envs/mxnet_latest_p37/lib/python3.7/site-packages (from matplotlib->gluoncv) (2.8.2)\n",
      "Requirement already satisfied: kiwisolver>=1.0.1 in /home/ec2-user/anaconda3/envs/mxnet_latest_p37/lib/python3.7/site-packages (from matplotlib->gluoncv) (1.3.1)\n",
      "Requirement already satisfied: cycler>=0.10 in /home/ec2-user/anaconda3/envs/mxnet_latest_p37/lib/python3.7/site-packages (from matplotlib->gluoncv) (0.10.0)\n",
      "Requirement already satisfied: six in /home/ec2-user/anaconda3/envs/mxnet_latest_p37/lib/python3.7/site-packages (from cycler>=0.10->matplotlib->gluoncv) (1.16.0)\n",
      "Requirement already satisfied: pytz>=2017.3 in /home/ec2-user/anaconda3/envs/mxnet_latest_p37/lib/python3.7/site-packages (from pandas->gluoncv) (2021.3)\n",
      "Requirement already satisfied: certifi>=2017.4.17 in /home/ec2-user/anaconda3/envs/mxnet_latest_p37/lib/python3.7/site-packages (from requests->gluoncv) (2021.10.8)\n",
      "Requirement already satisfied: idna<4,>=2.5 in /home/ec2-user/anaconda3/envs/mxnet_latest_p37/lib/python3.7/site-packages (from requests->gluoncv) (3.3)\n",
      "Requirement already satisfied: urllib3<1.27,>=1.21.1 in /home/ec2-user/anaconda3/envs/mxnet_latest_p37/lib/python3.7/site-packages (from requests->gluoncv) (1.26.7)\n",
      "Requirement already satisfied: charset-normalizer~=2.0.0 in /home/ec2-user/anaconda3/envs/mxnet_latest_p37/lib/python3.7/site-packages (from requests->gluoncv) (2.0.7)\n",
      "Installing collected packages: yacs, portalocker, autocfg, gluoncv\n",
      "Successfully installed autocfg-0.0.8 gluoncv-0.10.4.post4 portalocker-2.3.2 yacs-0.1.8\n",
      "\u001b[33mWARNING: You are using pip version 21.2.4; however, version 21.3.1 is available.\n",
      "You should consider upgrading via the '/home/ec2-user/anaconda3/envs/mxnet_latest_p37/bin/python -m pip install --upgrade pip' command.\u001b[0m\n",
      "Collecting xtarfile\n",
      "  Downloading xtarfile-0.1.0.tar.gz (3.4 kB)\n",
      "Building wheels for collected packages: xtarfile\n",
      "  Building wheel for xtarfile (setup.py) ... \u001b[?25ldone\n",
      "\u001b[?25h  Created wheel for xtarfile: filename=xtarfile-0.1.0-py3-none-any.whl size=3861 sha256=c9fed045788926646426605dd9be8e20900d093db12ecc19e5915f0d594d56e4\n",
      "  Stored in directory: /home/ec2-user/.cache/pip/wheels/14/ed/96/b06b7600d9d2eb6068fed8ded4282aeb3addf5b213dfe48819\n",
      "Successfully built xtarfile\n",
      "Installing collected packages: xtarfile\n",
      "Successfully installed xtarfile-0.1.0\n",
      "\u001b[33mWARNING: You are using pip version 21.2.4; however, version 21.3.1 is available.\n",
      "You should consider upgrading via the '/home/ec2-user/anaconda3/envs/mxnet_latest_p37/bin/python -m pip install --upgrade pip' command.\u001b[0m\n"
     ]
    }
   ],
   "source": [
    "!pip3 install gluoncv\n",
    "!pip3 install xtarfile"
   ]
  },
  {
   "cell_type": "code",
   "execution_count": 1,
   "id": "455327ba",
   "metadata": {},
   "outputs": [],
   "source": [
    "import numpy as np\n",
    "import mxnet as mx \n",
    "import gluoncv as gcv\n",
    "import xtarfile as tarfile\n",
    "import sagemaker\n",
    "import boto3\n",
    "import time"
   ]
  },
  {
   "cell_type": "markdown",
   "id": "4a74a573",
   "metadata": {},
   "source": [
    "## Model download and hybridize\n",
    "Use the following code to download the pre-trained model from MXNet model zoo. If you want to use models from other frameworks, you can use check out the [model preparation page](https://docs.aws.amazon.com/sagemaker/latest/dg/neo-compilation-preparing-model.html) on developer's guide to find out more information.\n",
    "\n",
    "In the second line, we hybridize the model and run through it once with randomized input of the expected input size. For more information about hybridizing models, please checkout the [MXNet explanation on hybridize](https://mxnet.apache.org/versions/1.7.0/api/python/docs/tutorials/packages/gluon/blocks/hybridize.html)."
   ]
  },
  {
   "cell_type": "code",
   "execution_count": 2,
   "id": "522f4ee3",
   "metadata": {},
   "outputs": [
    {
     "name": "stdout",
     "output_type": "stream",
     "text": [
      "Downloading /home/ec2-user/.mxnet/models/yolo3_mobilenet1.0_coco-66dbbae6.zip from https://apache-mxnet.s3-accelerate.dualstack.amazonaws.com/gluon/models/yolo3_mobilenet1.0_coco-66dbbae6.zip...\n"
     ]
    },
    {
     "name": "stderr",
     "output_type": "stream",
     "text": [
      "88993KB [00:01, 70817.68KB/s]                           \n"
     ]
    },
    {
     "name": "stdout",
     "output_type": "stream",
     "text": [
      "[2021-11-22 05:02:06.045 ip-172-16-86-139:5515 INFO utils.py:27] RULE_JOB_STOP_SIGNAL_FILENAME: None\n",
      "[2021-11-22 05:02:06.157 ip-172-16-86-139:5515 INFO profiler_config_parser.py:111] Unable to find config at /opt/ml/input/config/profilerconfig.json. Profiler is disabled.\n"
     ]
    }
   ],
   "source": [
    "net = gcv.model_zoo.get_model('yolo3_mobilenet1.0_coco', pretrained=True)\n",
    "net.hybridize()\n",
    "out = net(mx.nd.ones((1,3,224,224)))"
   ]
  },
  {
   "cell_type": "code",
   "execution_count": 3,
   "id": "d1baa20c",
   "metadata": {},
   "outputs": [],
   "source": [
    "net.export('yolo3_mobilenet1.0_coco')\n",
    "tar = tarfile.open(\"model.tar.gz\", \"w:gz\")\n",
    "for name in [\"yolo3_mobilenet1.0_coco-0000.params\", \"yolo3_mobilenet1.0_coco-symbol.json\"]:\n",
    "    tar.add(name)\n",
    "tar.close()"
   ]
  },
  {
   "cell_type": "markdown",
   "id": "f5aa8106",
   "metadata": {},
   "source": [
    "## Tar the model, and upload our model to S3\n",
    "Since in this notebook instance, there is already a execution role assiciated with it, we do not need to provision all the credentials. And in this example, for the simplicity, we are going to get the default bucket. SageMaker has a default bucket for each account (starts with sagemaker-) in the same region of this notebook instance. We are going to store all of the artifacts and compiled models within that default bucket. Feel free to change the bucket location if needed otherwise."
   ]
  },
  {
   "cell_type": "code",
   "execution_count": 4,
   "id": "33027d4b",
   "metadata": {},
   "outputs": [
    {
     "name": "stdout",
     "output_type": "stream",
     "text": [
      "arn:aws:iam::121984884871:role/smem-role\n"
     ]
    }
   ],
   "source": [
    "from sagemaker.utils import name_from_base\n",
    "\n",
    "role = sagemaker.get_execution_role()\n",
    "print(role)\n",
    "sess = sagemaker.Session()\n",
    "region = sess.boto_region_name\n",
    "bucket = sess.default_bucket()\n",
    "\n",
    "compilation_job_name = name_from_base(\"MXNet-yolo3-mobilenet10-Jetson-Nano\")\n",
    "prefix = compilation_job_name + \"/model\"\n",
    "model_path = sess.upload_data(path=\"model.tar.gz\", key_prefix=prefix)\n",
    "\n",
    "data_shape = '{\"data\":[1,3,224,224]}'\n",
    "target_platform = {'Os': 'LINUX', 'Arch': 'ARM64', 'Accelerator': 'NVIDIA'}\n",
    "compiler_options = '{\"trt-ver\": \"7.1.3\", \"cuda-ver\": \"10.2\", \"gpu-code\": \"sm_53\"}'\n",
    "framework = \"MXNET\"\n",
    "framework_version = \"1.7\"\n",
    "compiled_model_path = \"s3://{}/{}/output\".format(bucket, compilation_job_name)"
   ]
  },
  {
   "cell_type": "markdown",
   "id": "015042f6",
   "metadata": {},
   "source": [
    "## Start compilation job\n",
    "Start compilation job, and start a polling process to wait for the compilation job to succeed. It could take around 5 minutes."
   ]
  },
  {
   "cell_type": "code",
   "execution_count": 5,
   "id": "40e16488",
   "metadata": {},
   "outputs": [
    {
     "name": "stdout",
     "output_type": "stream",
     "text": [
      "Compiling ...\n",
      "Compiling ...\n",
      "Compiling ...\n",
      "Compiling ...\n",
      "Compiling ...\n",
      "Compiling ...\n",
      "Compiling ...\n",
      "Compiling ...\n",
      "Done!\n"
     ]
    }
   ],
   "source": [
    "# Create a SageMaker client so you can submit a compilation job\n",
    "sagemaker_client = boto3.client('sagemaker')\n",
    "\n",
    "response = sagemaker_client.create_compilation_job(\n",
    "    CompilationJobName=compilation_job_name,\n",
    "    RoleArn=role,\n",
    "    InputConfig={\n",
    "        'S3Uri': model_path,\n",
    "        'DataInputConfig': data_shape,\n",
    "        'Framework': framework.upper()\n",
    "    },\n",
    "    OutputConfig={\n",
    "        'S3OutputLocation': compiled_model_path,\n",
    "        'TargetPlatform': target_platform,\n",
    "        'CompilerOptions': compiler_options\n",
    "    },\n",
    "    StoppingCondition={\n",
    "        'MaxRuntimeInSeconds': 900\n",
    "    }\n",
    ")\n",
    "while True:\n",
    "    response = sagemaker_client.describe_compilation_job(CompilationJobName=compilation_job_name)\n",
    "    if response['CompilationJobStatus'] == 'COMPLETED':\n",
    "        break\n",
    "    elif response['CompilationJobStatus'] == 'FAILED':\n",
    "        raise RuntimeError('Compilation failed')\n",
    "    print('Compiling ...')\n",
    "    time.sleep(30)\n",
    "print('Done!')"
   ]
  },
  {
   "cell_type": "markdown",
   "id": "b93dfbfa",
   "metadata": {},
   "source": [
    "## Repackage compiled model in zip file for Greengrass deployment\n",
    "Since NEO compilation output is in the format of .tar.gz, but AWS IoT Greengrass only accepts .zip. We need the following step to convert the compiled model to convert the format in order for the archived file to be downloaded and unpacked by Greengrass service."
   ]
  },
  {
   "cell_type": "code",
   "execution_count": 6,
   "id": "9b727eeb",
   "metadata": {},
   "outputs": [
    {
     "name": "stdout",
     "output_type": "stream",
     "text": [
      "compiled.so\n",
      "libdlr.so\n",
      "compiled.params\n",
      "dlr.h\n",
      "compiled_model.json\n",
      "compiled.meta\n",
      "manifest\n",
      "  adding: model/compiled.meta (deflated 77%)\n",
      "  adding: model/compiled_model.json (deflated 89%)\n",
      "  adding: model/compiled.params (deflated 78%)\n",
      "  adding: model/compiled.so (deflated 8%)\n",
      "  adding: model/dlr.h (deflated 83%)\n",
      "  adding: model/libdlr.so (deflated 67%)\n",
      "  adding: model/manifest (deflated 45%)\n"
     ]
    }
   ],
   "source": [
    "s3_client = boto3.client('s3')\n",
    "neo_compiled_model = 'compiled-model.tar.gz'\n",
    "s3_client.download_file(bucket, compilation_job_name+'/output/model-LINUX_ARM64_NVIDIA.tar.gz', neo_compiled_model)\n",
    "!rm -rf model compiled-model.zip\n",
    "!mkdir model\n",
    "!tar zfxv compiled-model.tar.gz -C model/\n",
    "!zip compiled-model.zip model/*\n",
    "s3_client.upload_file('compiled-model.zip', bucket, '{}/model_zipped/model.zip'.format(compilation_job_name))"
   ]
  },
  {
   "cell_type": "code",
   "execution_count": 7,
   "id": "45472861",
   "metadata": {},
   "outputs": [
    {
     "data": {
      "text/plain": [
       "'s3://sagemaker-us-west-2-121984884871/MXNet-yolo3-mobilenet10-Jetson-Nano-2021-11-22-05-02-16-204/model_zipped/model.zip'"
      ]
     },
     "execution_count": 7,
     "metadata": {},
     "output_type": "execute_result"
    }
   ],
   "source": [
    "compiled_model_s3_url = f's3://{bucket}/{compilation_job_name}/model_zipped/model.zip'\n",
    "compiled_model_s3_url\n"
   ]
  },
  {
   "cell_type": "markdown",
   "id": "234dc234",
   "metadata": {},
   "source": [
    "# !!! PAUSE HERE !!!\n",
    "\n",
    "\n",
    "# Section 2: Please only proceed if you have a shared library uploaded on S3 as instructed in the workshop guide.\n",
    "\n",
    "### We need to pause here on this notebook and prepare the sample deepstream application before running the next steps.\n"
   ]
  },
  {
   "cell_type": "code",
   "execution_count": 8,
   "id": "56c0eeda",
   "metadata": {},
   "outputs": [],
   "source": [
    "packaged_deepstream_app_artifacts_S3_url = f's3://{bucket}/deepstream-people-counter/artifact/app.zip'"
   ]
  },
  {
   "cell_type": "code",
   "execution_count": 14,
   "id": "1864634d",
   "metadata": {},
   "outputs": [],
   "source": [
    "greengrass_recipe = {\n",
    "  \"RecipeFormatVersion\": \"2020-01-25\",\n",
    "  \"ComponentName\": \"iot-greengrass-managed-deepstream-application\",\n",
    "  \"ComponentVersion\": \"1.0.11\",\n",
    "  \"ComponentDescription\": \"Component that runs CV program at the edge\",\n",
    "  \"ComponentPublisher\": \"Amazon Web Services\",\n",
    "  \"ComponentConfiguration\": {\n",
    "    \"DefaultConfiguration\": {\n",
    "      \"accessControl\": {\n",
    "        \"aws.greengrass.ipc.pubsub\": {\n",
    "          \"$component_name:pubsub:1\": {\n",
    "            \"policyDescription\": \"Allows access to publish to all topics.\",\n",
    "            \"operations\": [\n",
    "              \"aws.greengrass#PublishToTopic\"\n",
    "            ],\n",
    "            \"resources\": [\n",
    "              \"*\"\n",
    "            ]\n",
    "          }\n",
    "        }\n",
    "      }\n",
    "    }\n",
    "  },\n",
    "  \"Manifests\": [\n",
    "    {\n",
    "      \"Platform\": {\n",
    "        \"os\": \"linux\"\n",
    "      },\n",
    "      \"Lifecycle\": {\n",
    "        \"Install\": {\n",
    "          \"Script\": \"chmod 777 {artifacts:decompressedPath}/app/deepstream-test5-analytics ; rm -rf ~/.cache/gstreamer-1.0/registry.aarch64.bin\"\n",
    "        },\n",
    "        \"Run\": {\n",
    "          \"Script\": \"sudo --preserve-env=COMPILED_MODEL_PATH {artifacts:decompressedPath}/app/deepstream-test5-analytics -c {artifacts:decompressedPath}/app/config/test5_config_file_src_infer_tlt_neo.txt\"\n",
    "        },\n",
    "        \"setenv\": {\n",
    "          \"COMPILED_MODEL_PATH\": \"{artifacts:decompressedPath}/model/model\"\n",
    "        }\n",
    "      },\n",
    "      \"Artifacts\": [\n",
    "        {\n",
    "          \"URI\": compiled_model_s3_url,\n",
    "          \"Unarchive\": \"ZIP\"\n",
    "        },\n",
    "        {\n",
    "          \"URI\": packaged_deepstream_app_artifacts_S3_url,\n",
    "          \"Unarchive\": \"ZIP\"\n",
    "        }\n",
    "      ]\n",
    "    }\n",
    "  ]\n",
    "}"
   ]
  },
  {
   "cell_type": "code",
   "execution_count": 15,
   "id": "30da2653",
   "metadata": {},
   "outputs": [],
   "source": [
    "import json\n",
    "gg_client = boto3.client('greengrassv2')\n",
    "component_creation_ret = gg_client.create_component_version(inlineRecipe=json.dumps(greengrass_recipe).encode('utf-8'))"
   ]
  },
  {
   "cell_type": "code",
   "execution_count": 16,
   "id": "4e367cb6",
   "metadata": {},
   "outputs": [],
   "source": [
    "iot_client = boto3.client('iot')\n",
    "\n",
    "thing_name = \"jetsonDeepstreamDemo\"\n",
    "thing_group_name = \"jetsonDeepstreamDemoGroup\"\n",
    "deployment_name = \"deepstream-app-deployment\"\n",
    "response = gg_client.create_deployment(\n",
    "    targetArn=iot_client.describe_thing(thingName = thing_name)['thingArn'],\n",
    "    deploymentName=deployment_name,\n",
    "    components={\n",
    "        component_creation_ret['componentName']: {\n",
    "            'componentVersion': component_creation_ret['componentVersion']\n",
    "        }\n",
    "    },\n",
    "    deploymentPolicies={\n",
    "        'failureHandlingPolicy': 'DO_NOTHING'\n",
    "    }\n",
    ")"
   ]
  },
  {
   "cell_type": "code",
   "execution_count": null,
   "id": "11adb21b",
   "metadata": {},
   "outputs": [],
   "source": []
  }
 ],
 "metadata": {
  "kernelspec": {
   "display_name": "conda_mxnet_latest_p37",
   "language": "python",
   "name": "conda_mxnet_latest_p37"
  },
  "language_info": {
   "codemirror_mode": {
    "name": "ipython",
    "version": 3
   },
   "file_extension": ".py",
   "mimetype": "text/x-python",
   "name": "python",
   "nbconvert_exporter": "python",
   "pygments_lexer": "ipython3",
   "version": "3.7.10"
  }
 },
 "nbformat": 4,
 "nbformat_minor": 5
}
